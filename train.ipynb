{
 "cells": [
  {
   "cell_type": "code",
   "execution_count": 8,
   "metadata": {},
   "outputs": [],
   "source": [
    "# This Python 3 environment comes with many helpful analytics libraries installed\n",
    "# It is defined by the kaggle/python Docker image: https://github.com/kaggle/docker-python\n",
    "# For example, here's several helpful packages to load\n",
    "\n",
    "import numpy as np # linear algebra\n",
    "import pandas as pd # data processing, CSV file I/O (e.g. pd.read_csv)\n",
    "\n",
    "# Input data files are available in the read-only \"../input/\" directory\n",
    "# For example, running this (by clicking run or pressing Shift+Enter) will list all files under the input directory\n",
    "\n",
    "import os\n",
    "for dirname, _, filenames in os.walk('/kaggle/input'):\n",
    "    for filename in filenames:\n",
    "        print(os.path.join(dirname, filename))\n",
    "\n",
    "# You can write up to 20GB to the current directory (/kaggle/working/) that gets preserved as output when you create a version using \"Save & Run All\" \n",
    "# You can also write temporary files to /kaggle/temp/, but they won't be saved outside of the current session"
   ]
  },
  {
   "cell_type": "code",
   "execution_count": 10,
   "metadata": {},
   "outputs": [],
   "source": [
    "import torch\n",
    "from yolov5 import utils\n",
    "# display = utils.notebook_init()  # checks"
   ]
  },
  {
   "cell_type": "code",
   "execution_count": 13,
   "metadata": {},
   "outputs": [
    {
     "name": "stderr",
     "output_type": "stream",
     "text": [
      "\u001b[34m\u001b[1mdetect: \u001b[0mweights=['yolov5s.pt'], source=yolov5\\data\\images, data=yolov5\\data\\coco128.yaml, imgsz=[640, 640], conf_thres=0.25, iou_thres=0.45, max_det=1000, device=, view_img=False, save_txt=False, save_csv=False, save_conf=False, save_crop=False, nosave=False, classes=None, agnostic_nms=False, augment=False, visualize=False, update=False, project=yolov5\\runs\\detect, name=exp, exist_ok=False, line_thickness=3, hide_labels=False, hide_conf=False, half=False, dnn=False, vid_stride=1\n",
      "YOLOv5  v7.0-240-g84ec8b5 Python-3.10.11 torch-2.1.0+cu118 CPU\n",
      "\n",
      "Fusing layers... \n",
      "YOLOv5s summary: 213 layers, 7225885 parameters, 0 gradients, 16.4 GFLOPs\n",
      "image 1/2 C:\\Users\\admin\\OneDrive\\Documents\\GitHub\\Other\\biotech-oil-spills-2023\\yolov5\\data\\images\\bus.jpg: 640x480 4 persons, 1 bus, 205.7ms\n",
      "image 2/2 C:\\Users\\admin\\OneDrive\\Documents\\GitHub\\Other\\biotech-oil-spills-2023\\yolov5\\data\\images\\zidane.jpg: 384x640 2 persons, 2 ties, 171.7ms\n",
      "Speed: 0.9ms pre-process, 188.7ms inference, 2.6ms NMS per image at shape (1, 3, 640, 640)\n",
      "Results saved to \u001b[1myolov5\\runs\\detect\\exp3\u001b[0m\n"
     ]
    }
   ],
   "source": [
    "!python yolov5/detect.py --weights yolov5s.pt --img 640 --conf 0.25"
   ]
  },
  {
   "cell_type": "code",
   "execution_count": 20,
   "metadata": {},
   "outputs": [
    {
     "name": "stderr",
     "output_type": "stream",
     "text": [
      "\u001b[34m\u001b[1mval: \u001b[0mdata=oil_spill_data.yaml, weights=['yolov5s.pt'], batch_size=32, imgsz=640, conf_thres=0.001, iou_thres=0.6, max_det=300, task=val, device=, workers=8, single_cls=False, augment=False, verbose=False, save_txt=False, save_hybrid=False, save_conf=False, save_json=False, project=yolov5\\runs\\val, name=exp, exist_ok=False, half=True, dnn=False\n",
      "YOLOv5  v7.0-240-g84ec8b5 Python-3.10.11 torch-2.1.0+cu118 CPU\n",
      "\n",
      "Fusing layers... \n",
      "YOLOv5s summary: 213 layers, 7225885 parameters, 0 gradients, 16.4 GFLOPs\n",
      "\n",
      "Dataset not found , missing paths ['C:\\\\Users\\\\admin\\\\OneDrive\\\\Documents\\\\GitHub\\\\Other\\\\biotech-oil-spills-2023\\\\yolov5\\\\Oil Spills Dataset\\\\obj_train_data\\\\val']\n",
      "Traceback (most recent call last):\n",
      "  File \"c:\\Users\\admin\\OneDrive\\Documents\\GitHub\\Other\\biotech-oil-spills-2023\\yolov5\\val.py\", line 411, in <module>\n",
      "    main(opt)\n",
      "  File \"c:\\Users\\admin\\OneDrive\\Documents\\GitHub\\Other\\biotech-oil-spills-2023\\yolov5\\val.py\", line 382, in main\n",
      "    run(**vars(opt))\n",
      "  File \"c:\\Users\\admin\\OneDrive\\Documents\\GitHub\\Other\\biotech-oil-spills-2023\\venv\\lib\\site-packages\\torch\\utils\\_contextlib.py\", line 115, in decorate_context\n",
      "    return func(*args, **kwargs)\n",
      "  File \"c:\\Users\\admin\\OneDrive\\Documents\\GitHub\\Other\\biotech-oil-spills-2023\\yolov5\\val.py\", line 156, in run\n",
      "    data = check_dataset(data)  # check\n",
      "  File \"c:\\Users\\admin\\OneDrive\\Documents\\GitHub\\Other\\biotech-oil-spills-2023\\yolov5\\utils\\general.py\", line 527, in check_dataset\n",
      "    raise Exception('Dataset not found ❌')\n",
      "Exception: Dataset not found ❌\n"
     ]
    }
   ],
   "source": [
    "# Validate YOLOv5s on COCO val\n",
    "!python yolov5/val.py --weights yolov5s.pt --data oil_spill_data.yaml --img 640 --half"
   ]
  },
  {
   "cell_type": "code",
   "execution_count": 15,
   "metadata": {},
   "outputs": [
    {
     "name": "stdout",
     "output_type": "stream",
     "text": [
      "Note: you may need to restart the kernel to use updated packages.\n",
      "Please paste your Comet API key from https://www.comet.com/api/my/settings/\n",
      "(api key may not show as you type)\n"
     ]
    },
    {
     "name": "stderr",
     "output_type": "stream",
     "text": [
      "\u001b[1;38;5;196mCOMET ERROR:\u001b[0m Invalid Comet API key for https://www.comet.com/clientlib/\n",
      "Please see https://www.comet.com/docs/command-line/#comet-check for more information.\n",
      "Use: comet_ml.init() to try again\n"
     ]
    }
   ],
   "source": [
    "#@title Select YOLOv5 🚀 logger {run: 'auto'}\n",
    "logger = 'Comet' #@param ['Comet', 'ClearML', 'TensorBoard']\n",
    "\n",
    "if logger == 'Comet':\n",
    "  %pip install -q comet_ml\n",
    "  import comet_ml; comet_ml.init()\n",
    "elif logger == 'ClearML':\n",
    "  %pip install -q clearml\n",
    "  import clearml; clearml.browser_login()\n",
    "elif logger == 'TensorBoard':\n",
    "  %load_ext tensorboard\n",
    "  %tensorboard --logdir runs/train"
   ]
  },
  {
   "cell_type": "code",
   "execution_count": 17,
   "metadata": {},
   "outputs": [
    {
     "name": "stderr",
     "output_type": "stream",
     "text": [
      "\u001b[34m\u001b[1mtrain: \u001b[0mweights=yolov5s.pt, cfg=yolov5.yaml, data=oil_spill_data.yaml, hyp=yolov5\\data\\hyps\\hyp.scratch-low.yaml, epochs=3, batch_size=165, imgsz=640, rect=False, resume=False, nosave=False, noval=False, noautoanchor=False, noplots=False, evolve=None, bucket=, cache=ram, image_weights=False, device=, multi_scale=False, single_cls=False, optimizer=SGD, sync_bn=False, workers=8, project=yolov5\\runs\\train, name=exp, exist_ok=False, quad=False, cos_lr=False, label_smoothing=0.0, patience=100, freeze=[0], save_period=-1, seed=0, local_rank=-1, entity=None, upload_dataset=False, bbox_interval=-1, artifact_alias=latest\n",
      "\u001b[34m\u001b[1mgithub: \u001b[0mup to date with https://github.com/ultralytics/yolov5 \n",
      "YOLOv5  v7.0-240-g84ec8b5 Python-3.10.11 torch-2.1.0+cu118 CPU\n",
      "\n",
      "\u001b[34m\u001b[1mhyperparameters: \u001b[0mlr0=0.01, lrf=0.01, momentum=0.937, weight_decay=0.0005, warmup_epochs=3.0, warmup_momentum=0.8, warmup_bias_lr=0.1, box=0.05, cls=0.5, cls_pw=1.0, obj=1.0, obj_pw=1.0, iou_t=0.2, anchor_t=4.0, fl_gamma=0.0, hsv_h=0.015, hsv_s=0.7, hsv_v=0.4, degrees=0.0, translate=0.1, scale=0.5, shear=0.0, perspective=0.0, flipud=0.0, fliplr=0.5, mosaic=1.0, mixup=0.0, copy_paste=0.0\n",
      "\u001b[34m\u001b[1mTensorBoard: \u001b[0mStart with 'tensorboard --logdir yolov5\\runs\\train', view at http://localhost:6006/\n",
      "COMET WARNING: Comet credentials have not been set. Comet will default to offline logging. Please set your credentials to enable online logging.\n",
      "COMET INFO: Using 'C:\\\\Users\\\\admin\\\\OneDrive\\\\Documents\\\\GitHub\\\\Other\\\\biotech-oil-spills-2023\\\\.cometml-runs' path as offline directory. Pass 'offline_directory' parameter into constructor or set the 'COMET_OFFLINE_DIRECTORY' environment variable to manually choose where to store offline experiment archives.\n",
      "COMET WARNING: Native output logging mode is not available, falling back to basic output logging\n",
      "\n",
      "Dataset not found , missing paths ['C:\\\\Users\\\\admin\\\\OneDrive\\\\Documents\\\\GitHub\\\\Other\\\\biotech-oil-spills-2023\\\\yolov5\\\\Oil Spills Dataset\\\\obj_train_data\\\\val']\n",
      "Traceback (most recent call last):\n",
      "  File \"c:\\Users\\admin\\OneDrive\\Documents\\GitHub\\Other\\biotech-oil-spills-2023\\yolov5\\train.py\", line 647, in <module>\n",
      "    main(opt)\n",
      "  File \"c:\\Users\\admin\\OneDrive\\Documents\\GitHub\\Other\\biotech-oil-spills-2023\\yolov5\\train.py\", line 536, in main\n",
      "    train(opt.hyp, opt, device, callbacks)\n",
      "  File \"c:\\Users\\admin\\OneDrive\\Documents\\GitHub\\Other\\biotech-oil-spills-2023\\yolov5\\train.py\", line 101, in train\n",
      "    loggers = Loggers(save_dir, weights, opt, hyp, LOGGER)  # loggers instance\n",
      "  File \"c:\\Users\\admin\\OneDrive\\Documents\\GitHub\\Other\\biotech-oil-spills-2023\\yolov5\\utils\\loggers\\__init__.py\", line 129, in __init__\n",
      "    self.comet_logger = CometLogger(self.opt, self.hyp)\n",
      "  File \"c:\\Users\\admin\\OneDrive\\Documents\\GitHub\\Other\\biotech-oil-spills-2023\\yolov5\\utils\\loggers\\comet\\__init__.py\", line 98, in __init__\n",
      "    self.data_dict = self.check_dataset(self.opt.data)\n",
      "  File \"c:\\Users\\admin\\OneDrive\\Documents\\GitHub\\Other\\biotech-oil-spills-2023\\yolov5\\utils\\loggers\\comet\\__init__.py\", line 244, in check_dataset\n",
      "    return check_dataset(data_file)\n",
      "  File \"c:\\Users\\admin\\OneDrive\\Documents\\GitHub\\Other\\biotech-oil-spills-2023\\yolov5\\utils\\general.py\", line 527, in check_dataset\n",
      "    raise Exception('Dataset not found ❌')\n",
      "Exception: Dataset not found ❌\n",
      "COMET INFO: ---------------------------------------------------------------------------------------\n",
      "COMET INFO: Comet.ml OfflineExperiment Summary\n",
      "COMET INFO: ---------------------------------------------------------------------------------------\n",
      "COMET INFO:   Data:\n",
      "COMET INFO:     display_summary_level : 1\n",
      "COMET INFO:     url                   : [OfflineExperiment will get URL after upload]\n",
      "COMET INFO:   Others:\n",
      "COMET INFO:     Name               : exp\n",
      "COMET INFO:     offline_experiment : True\n",
      "COMET INFO:   Uploads:\n",
      "COMET INFO:     asset               : 1 (205 bytes)\n",
      "COMET INFO:     environment details : 1\n",
      "COMET INFO:     git metadata        : 1\n",
      "COMET INFO:     installed packages  : 1\n",
      "COMET INFO: \n",
      "COMET INFO: Still saving offline stats to messages file before program termination (may take up to 120 seconds)\n",
      "COMET INFO: Starting saving the offline archive\n",
      "COMET INFO: To upload this offline experiment, run:\n",
      "    comet upload C:\\Users\\admin\\OneDrive\\Documents\\GitHub\\Other\\biotech-oil-spills-2023\\.cometml-runs\\cf682f4db58a4ce297d9c0dca5fee3e3.zip\n"
     ]
    }
   ],
   "source": [
    "# Train YOLOv5s on COCO128 for 3 epochs\n",
    "!python yolov5/train.py  --batch 165 --epochs 3 --data oil_spill_data.yaml --cfg yolov5.yaml --weights yolov5s.pt --cache"
   ]
  },
  {
   "cell_type": "code",
   "execution_count": null,
   "metadata": {},
   "outputs": [],
   "source": []
  }
 ],
 "metadata": {
  "kernelspec": {
   "display_name": "Python 3",
   "language": "python",
   "name": "python3"
  },
  "language_info": {
   "codemirror_mode": {
    "name": "ipython",
    "version": 3
   },
   "file_extension": ".py",
   "mimetype": "text/x-python",
   "name": "python",
   "nbconvert_exporter": "python",
   "pygments_lexer": "ipython3",
   "version": "3.10.11"
  },
  "orig_nbformat": 4
 },
 "nbformat": 4,
 "nbformat_minor": 2
}
